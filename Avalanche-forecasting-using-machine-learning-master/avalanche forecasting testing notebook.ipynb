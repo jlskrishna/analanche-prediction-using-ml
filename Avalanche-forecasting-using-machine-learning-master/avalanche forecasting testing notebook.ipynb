{
 "cells": [
  {
   "cell_type": "code",
   "execution_count": 1,
   "metadata": {},
   "outputs": [],
   "source": [
    "import numpy as np\n",
    "import pandas as pd\n",
    "from joblib import load"
   ]
  },
  {
   "cell_type": "code",
   "execution_count": 2,
   "metadata": {},
   "outputs": [],
   "source": [
    "model=load('ava.save')"
   ]
  },
  {
   "cell_type": "code",
   "execution_count": 3,
   "metadata": {},
   "outputs": [],
   "source": [
    "x_test=pd.read_csv(r'C:\\Users\\krishna\\internship\\Avalanche prediction project  in ML\\datasets\\x_test.csv')\n",
    "y_test=pd.read_csv(r'C:\\Users\\krishna\\internship\\Avalanche prediction project  in ML\\datasets\\y_test.csv')"
   ]
  },
  {
   "cell_type": "code",
   "execution_count": 4,
   "metadata": {},
   "outputs": [],
   "source": [
    "x_test=x_test.values\n",
    "y_test=y_test.values"
   ]
  },
  {
   "cell_type": "code",
   "execution_count": 5,
   "metadata": {},
   "outputs": [
    {
     "data": {
      "text/plain": [
       "array([[  1.,   0.,  48.,  55.,  15.,  19.],\n",
       "       [  0.,   0.,  26.,  12.,  -8.,  17.],\n",
       "       [  1.,   0.,  61.,  17., -11.,   9.],\n",
       "       [  1.,   0.,  80.,  73.,  14.,  35.],\n",
       "       [  0.,   1.,  34.,  33.,  13.,  35.],\n",
       "       [  0.,   0.,  50.,   5., -31.,   7.],\n",
       "       [  1.,   0.,  34.,  76.,  -7.,  40.],\n",
       "       [  1.,   0.,  27.,  61., -13.,  25.],\n",
       "       [  0.,   1.,  34.,  59., -29.,   8.],\n",
       "       [  1.,   0.,  59.,   6.,  10.,  37.],\n",
       "       [  0.,   1.,  18.,  39.,  12.,   7.],\n",
       "       [  0.,   0.,  55.,  24., -16.,  16.],\n",
       "       [  1.,   0.,  66.,  78.,  -7.,  22.],\n",
       "       [  1.,   0.,  22.,  13., -22.,  39.],\n",
       "       [  0.,   0.,  55.,  24., -16.,  16.],\n",
       "       [  1.,   0.,  34.,   4.,   3.,   9.],\n",
       "       [  0.,   1.,  34.,  44.,   6.,   6.],\n",
       "       [  0.,   1.,  34.,  33.,  13.,  35.],\n",
       "       [  0.,   0.,  38.,   1., -14.,  31.],\n",
       "       [  0.,   0.,  55.,  24., -16.,  16.],\n",
       "       [  1.,   0.,  18.,  21., -11.,  23.],\n",
       "       [  0.,   1.,  16.,  68.,  10.,  26.],\n",
       "       [  0.,   0.,  69.,  54.,  11.,  29.],\n",
       "       [  1.,   0.,  34.,  76., -27.,  38.],\n",
       "       [  1.,   0.,  54.,  21.,   0.,  23.],\n",
       "       [  0.,   0.,  59.,  27., -27.,   6.],\n",
       "       [  0.,   0.,  22.,  48., -14.,  17.],\n",
       "       [  0.,   1.,  18.,  39.,  12.,   7.],\n",
       "       [  1.,   0.,  33.,  53.,  -7.,  24.],\n",
       "       [  0.,   1.,  51.,  69.,  11.,  31.],\n",
       "       [  0.,   1.,  34.,  59., -29.,   8.],\n",
       "       [  0.,   1.,  76.,  52.,  11.,  11.],\n",
       "       [  1.,   0.,  75.,  30., -11.,  36.],\n",
       "       [  0.,   1.,  50.,  49., -10.,  34.],\n",
       "       [  1.,   0.,  12.,   5., -11.,  14.],\n",
       "       [  0.,   1.,  17.,  15.,  -2.,  36.],\n",
       "       [  1.,   0.,  22.,  13., -22.,  39.],\n",
       "       [  1.,   0.,  19.,  66.,  12.,  37.],\n",
       "       [  0.,   0.,  34.,   4., -20.,   7.],\n",
       "       [  0.,   0.,  51.,  41.,   4.,  10.],\n",
       "       [  0.,   0.,  34.,   4., -20.,   7.]])"
      ]
     },
     "execution_count": 5,
     "metadata": {},
     "output_type": "execute_result"
    }
   ],
   "source": [
    "x_test"
   ]
  },
  {
   "cell_type": "code",
   "execution_count": 6,
   "metadata": {
    "scrolled": true
   },
   "outputs": [
    {
     "data": {
      "text/plain": [
       "array([[2],\n",
       "       [1],\n",
       "       [0],\n",
       "       [0],\n",
       "       [2],\n",
       "       [2],\n",
       "       [2],\n",
       "       [2],\n",
       "       [0],\n",
       "       [1],\n",
       "       [1],\n",
       "       [2],\n",
       "       [0],\n",
       "       [1],\n",
       "       [2],\n",
       "       [2],\n",
       "       [1],\n",
       "       [2],\n",
       "       [1],\n",
       "       [2],\n",
       "       [2],\n",
       "       [1],\n",
       "       [2],\n",
       "       [0],\n",
       "       [2],\n",
       "       [2],\n",
       "       [1],\n",
       "       [1],\n",
       "       [2],\n",
       "       [0],\n",
       "       [0],\n",
       "       [2],\n",
       "       [0],\n",
       "       [0],\n",
       "       [2],\n",
       "       [1],\n",
       "       [1],\n",
       "       [2],\n",
       "       [1],\n",
       "       [2],\n",
       "       [1]], dtype=int64)"
      ]
     },
     "execution_count": 6,
     "metadata": {},
     "output_type": "execute_result"
    }
   ],
   "source": [
    "y_test"
   ]
  },
  {
   "cell_type": "code",
   "execution_count": 7,
   "metadata": {},
   "outputs": [],
   "source": [
    "y_pred=model.predict(x_test)"
   ]
  },
  {
   "cell_type": "code",
   "execution_count": 8,
   "metadata": {},
   "outputs": [
    {
     "data": {
      "text/plain": [
       "0.8536585365853658"
      ]
     },
     "execution_count": 8,
     "metadata": {},
     "output_type": "execute_result"
    }
   ],
   "source": [
    "from sklearn.metrics import accuracy_score\n",
    "accuracy_score(y_test,y_pred)"
   ]
  },
  {
   "cell_type": "code",
   "execution_count": 9,
   "metadata": {},
   "outputs": [
    {
     "data": {
      "text/plain": [
       "array([[ 8,  0,  1],\n",
       "       [ 0, 12,  1],\n",
       "       [ 0,  4, 15]], dtype=int64)"
      ]
     },
     "execution_count": 9,
     "metadata": {},
     "output_type": "execute_result"
    }
   ],
   "source": [
    "from sklearn import metrics\n",
    "metrics.confusion_matrix(y_test,y_pred)"
   ]
  },
  {
   "cell_type": "code",
   "execution_count": null,
   "metadata": {},
   "outputs": [],
   "source": []
  }
 ],
 "metadata": {
  "kernelspec": {
   "display_name": "Python 3",
   "language": "python",
   "name": "python3"
  },
  "language_info": {
   "codemirror_mode": {
    "name": "ipython",
    "version": 3
   },
   "file_extension": ".py",
   "mimetype": "text/x-python",
   "name": "python",
   "nbconvert_exporter": "python",
   "pygments_lexer": "ipython3",
   "version": "3.7.3"
  }
 },
 "nbformat": 4,
 "nbformat_minor": 2
}
